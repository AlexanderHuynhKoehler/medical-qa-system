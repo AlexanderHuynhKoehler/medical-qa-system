{
 "cells": [
  {
   "cell_type": "code",
   "execution_count": null,
   "metadata": {},
   "outputs": [],
   "source": [
    "from src.utils import *"
   ]
  },
  {
   "cell_type": "code",
   "execution_count": 5,
   "metadata": {},
   "outputs": [],
   "source": [
    "def test_multi_head_attention():\n",
    "    batch_size, seq_len, embed_dim = 2, 10, 512\n",
    "    num_heads = 8\n",
    "    \n",
    "    # Create model and input\n",
    "    model = MultiHeadAttention(embed_dim, num_heads)\n",
    "    x = torch.rand(batch_size, seq_len, embed_dim)\n",
    "    \n",
    "    # Run forward pass\n",
    "    with torch.no_grad():\n",
    "        output, weights = model(x, x, x)\n",
    "    \n",
    "    # Test shapes\n",
    "    assert output.shape == (batch_size, seq_len, embed_dim)\n",
    "    assert weights.shape == (batch_size, num_heads, seq_len, seq_len)\n",
    "    \n",
    "    # Test attention properties with relaxed tolerances\n",
    "    weight_sums = weights.sum(dim=-1)\n",
    "    assert torch.allclose(\n",
    "        weight_sums,\n",
    "        torch.ones_like(weight_sums),\n",
    "        rtol=1e-2,\n",
    "        atol=1e-2\n",
    "    )"
   ]
  },
  {
   "cell_type": "code",
   "execution_count": null,
   "metadata": {},
   "outputs": [],
   "source": [
    "# Example usage\n",
    "qa_pipeline = MedicalQAPipeline()\n",
    "\n",
    "# Yes/No question\n",
    "question1 = \"Is high blood pressure a risk factor for heart disease?\"\n",
    "context1 = \"High blood pressure is one of the main risk factors for heart disease and stroke.\"\n",
    "answer1 = qa_pipeline.answer_question(question1, context1)\n",
    "print(f\"Q: {question1}\\nA: {answer1['answer']} (Confidence: {answer1['confidence']:.2f})\")\n",
    "\n",
    "# Span question\n",
    "question2 = \"What is the most common symptom of a heart attack?\"\n",
    "context2 = \"While heart attack symptoms vary, chest pain is the most common symptom, often described as pressure or tightness.\"\n",
    "answer2 = qa_pipeline.answer_question(question2, context2)\n",
    "print(f\"Q: {question2}\\nA: {answer2['answer']} (Confidence: {answer2['confidence']:.2f})\")"
   ]
  }
 ],
 "metadata": {
  "kernelspec": {
   "display_name": "cusom_env",
   "language": "python",
   "name": "python3"
  },
  "language_info": {
   "codemirror_mode": {
    "name": "ipython",
    "version": 3
   },
   "file_extension": ".py",
   "mimetype": "text/x-python",
   "name": "python",
   "nbconvert_exporter": "python",
   "pygments_lexer": "ipython3",
   "version": "3.11.7"
  }
 },
 "nbformat": 4,
 "nbformat_minor": 2
}
